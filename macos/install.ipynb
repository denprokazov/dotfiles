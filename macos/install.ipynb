{
 "cells": [
  {
   "cell_type": "markdown",
   "metadata": {},
   "source": [
    "# System setup\n",
    "### setup env variables\n",
    "env variable is set in ./zsh/.zshenv\n",
    "Set symlink to ~/.zshenv from your repo path before proceed\n",
    "```bash\n",
    "ln -s $HOME/Dev/repos/dotfiles/macos/zsh/.zshenv ~/.zshenv\n",
    "```\n",
    "\n",
    "### setup nvim symlink\n",
    "```bash \n",
    "ln -s $dotfilesDir/macos/vimconfig/init.vim ~/.config/nvim/init.vim\n",
    "```\n",
    "\n",
    "# Software Install\n",
    "First install [brew](https://brew.sh).\n",
    "\n",
    "## install development tools\n",
    "```bash\n",
    "brew install neovim\n",
    "brew install --cask iterm2\n",
    "```\n",
    "\n",
    "## setup omnisharp language server\n",
    "```bash\n",
    "brew tap omnisharp/omnisharp-roslyn\n",
    "brew install omnisharp --without-mono\n",
    "```\n",
    "\n",
    "# Software configuration\n",
    "### git setup\n",
    "```\n",
    "git config --global user.name \"denprokazov\"\n",
    "git config --global user.email denprokazov@gmail.com\n",
    "```\n"
   ]
  },
  {
   "cell_type": "code",
   "execution_count": null,
   "metadata": {
    "dotnet_interactive": {
     "language": "csharp"
    },
    "vscode": {
     "languageId": "dotnet-interactive.csharp"
    }
   },
   "outputs": [],
   "source": []
  }
 ],
 "metadata": {
  "kernelspec": {
   "display_name": ".NET (C#)",
   "language": "C#",
   "name": ".net-csharp"
  },
  "language_info": {
   "file_extension": ".cs",
   "mimetype": "text/x-csharp",
   "name": "C#",
   "pygments_lexer": "csharp",
   "version": "9.0"
  },
  "orig_nbformat": 4
 },
 "nbformat": 4,
 "nbformat_minor": 2
}
